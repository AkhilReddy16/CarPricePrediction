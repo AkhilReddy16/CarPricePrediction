{
 "cells": [
  {
   "cell_type": "code",
   "execution_count": 1,
   "id": "05828429",
   "metadata": {},
   "outputs": [],
   "source": [
    "import pandas as pd\n",
    "import numpy as np\n",
    "import matplotlib.pyplot as plt\n",
    "from sklearn.metrics import r2_score\n",
    "import seaborn as sns"
   ]
  },
  {
   "cell_type": "code",
   "execution_count": 2,
   "id": "3dc548e3",
   "metadata": {
    "scrolled": true
   },
   "outputs": [
    {
     "data": {
      "text/html": [
       "<div>\n",
       "<style scoped>\n",
       "    .dataframe tbody tr th:only-of-type {\n",
       "        vertical-align: middle;\n",
       "    }\n",
       "\n",
       "    .dataframe tbody tr th {\n",
       "        vertical-align: top;\n",
       "    }\n",
       "\n",
       "    .dataframe thead th {\n",
       "        text-align: right;\n",
       "    }\n",
       "</style>\n",
       "<table border=\"1\" class=\"dataframe\">\n",
       "  <thead>\n",
       "    <tr style=\"text-align: right;\">\n",
       "      <th></th>\n",
       "      <th>Unnamed: 0</th>\n",
       "      <th>symboling</th>\n",
       "      <th>normalized-losses</th>\n",
       "      <th>wheel-base</th>\n",
       "      <th>length</th>\n",
       "      <th>width</th>\n",
       "      <th>height</th>\n",
       "      <th>curb-weight</th>\n",
       "      <th>engine-size</th>\n",
       "      <th>bore</th>\n",
       "      <th>...</th>\n",
       "      <th>compression-ratio</th>\n",
       "      <th>horsepower</th>\n",
       "      <th>peak-rpm</th>\n",
       "      <th>city-mpg</th>\n",
       "      <th>highway-mpg</th>\n",
       "      <th>fuel-type-diesel</th>\n",
       "      <th>fuel-type-gas</th>\n",
       "      <th>aspiration-std</th>\n",
       "      <th>aspiration-turbo</th>\n",
       "      <th>price</th>\n",
       "    </tr>\n",
       "  </thead>\n",
       "  <tbody>\n",
       "    <tr>\n",
       "      <th>0</th>\n",
       "      <td>0</td>\n",
       "      <td>3</td>\n",
       "      <td>122</td>\n",
       "      <td>88.6</td>\n",
       "      <td>0.811148</td>\n",
       "      <td>0.890278</td>\n",
       "      <td>0.816054</td>\n",
       "      <td>2548</td>\n",
       "      <td>130</td>\n",
       "      <td>3.47</td>\n",
       "      <td>...</td>\n",
       "      <td>9.0</td>\n",
       "      <td>111</td>\n",
       "      <td>5000.0</td>\n",
       "      <td>21</td>\n",
       "      <td>27</td>\n",
       "      <td>0</td>\n",
       "      <td>1</td>\n",
       "      <td>1</td>\n",
       "      <td>0</td>\n",
       "      <td>13495.0</td>\n",
       "    </tr>\n",
       "    <tr>\n",
       "      <th>1</th>\n",
       "      <td>1</td>\n",
       "      <td>3</td>\n",
       "      <td>122</td>\n",
       "      <td>88.6</td>\n",
       "      <td>0.811148</td>\n",
       "      <td>0.890278</td>\n",
       "      <td>0.816054</td>\n",
       "      <td>2548</td>\n",
       "      <td>130</td>\n",
       "      <td>3.47</td>\n",
       "      <td>...</td>\n",
       "      <td>9.0</td>\n",
       "      <td>111</td>\n",
       "      <td>5000.0</td>\n",
       "      <td>21</td>\n",
       "      <td>27</td>\n",
       "      <td>0</td>\n",
       "      <td>1</td>\n",
       "      <td>1</td>\n",
       "      <td>0</td>\n",
       "      <td>16500.0</td>\n",
       "    </tr>\n",
       "    <tr>\n",
       "      <th>2</th>\n",
       "      <td>2</td>\n",
       "      <td>1</td>\n",
       "      <td>122</td>\n",
       "      <td>94.5</td>\n",
       "      <td>0.822681</td>\n",
       "      <td>0.909722</td>\n",
       "      <td>0.876254</td>\n",
       "      <td>2823</td>\n",
       "      <td>152</td>\n",
       "      <td>2.68</td>\n",
       "      <td>...</td>\n",
       "      <td>9.0</td>\n",
       "      <td>154</td>\n",
       "      <td>5000.0</td>\n",
       "      <td>19</td>\n",
       "      <td>26</td>\n",
       "      <td>0</td>\n",
       "      <td>1</td>\n",
       "      <td>1</td>\n",
       "      <td>0</td>\n",
       "      <td>16500.0</td>\n",
       "    </tr>\n",
       "    <tr>\n",
       "      <th>3</th>\n",
       "      <td>3</td>\n",
       "      <td>2</td>\n",
       "      <td>164</td>\n",
       "      <td>99.8</td>\n",
       "      <td>0.848630</td>\n",
       "      <td>0.919444</td>\n",
       "      <td>0.908027</td>\n",
       "      <td>2337</td>\n",
       "      <td>109</td>\n",
       "      <td>3.19</td>\n",
       "      <td>...</td>\n",
       "      <td>10.0</td>\n",
       "      <td>102</td>\n",
       "      <td>5500.0</td>\n",
       "      <td>24</td>\n",
       "      <td>30</td>\n",
       "      <td>0</td>\n",
       "      <td>1</td>\n",
       "      <td>1</td>\n",
       "      <td>0</td>\n",
       "      <td>13950.0</td>\n",
       "    </tr>\n",
       "    <tr>\n",
       "      <th>4</th>\n",
       "      <td>4</td>\n",
       "      <td>2</td>\n",
       "      <td>164</td>\n",
       "      <td>99.4</td>\n",
       "      <td>0.848630</td>\n",
       "      <td>0.922222</td>\n",
       "      <td>0.908027</td>\n",
       "      <td>2824</td>\n",
       "      <td>136</td>\n",
       "      <td>3.19</td>\n",
       "      <td>...</td>\n",
       "      <td>8.0</td>\n",
       "      <td>115</td>\n",
       "      <td>5500.0</td>\n",
       "      <td>18</td>\n",
       "      <td>22</td>\n",
       "      <td>0</td>\n",
       "      <td>1</td>\n",
       "      <td>1</td>\n",
       "      <td>0</td>\n",
       "      <td>17450.0</td>\n",
       "    </tr>\n",
       "  </tbody>\n",
       "</table>\n",
       "<p>5 rows × 21 columns</p>\n",
       "</div>"
      ],
      "text/plain": [
       "   Unnamed: 0  symboling  normalized-losses  wheel-base    length     width  \\\n",
       "0           0          3                122        88.6  0.811148  0.890278   \n",
       "1           1          3                122        88.6  0.811148  0.890278   \n",
       "2           2          1                122        94.5  0.822681  0.909722   \n",
       "3           3          2                164        99.8  0.848630  0.919444   \n",
       "4           4          2                164        99.4  0.848630  0.922222   \n",
       "\n",
       "     height  curb-weight  engine-size  bore  ...  compression-ratio  \\\n",
       "0  0.816054         2548          130  3.47  ...                9.0   \n",
       "1  0.816054         2548          130  3.47  ...                9.0   \n",
       "2  0.876254         2823          152  2.68  ...                9.0   \n",
       "3  0.908027         2337          109  3.19  ...               10.0   \n",
       "4  0.908027         2824          136  3.19  ...                8.0   \n",
       "\n",
       "   horsepower  peak-rpm  city-mpg  highway-mpg  fuel-type-diesel  \\\n",
       "0         111    5000.0        21           27                 0   \n",
       "1         111    5000.0        21           27                 0   \n",
       "2         154    5000.0        19           26                 0   \n",
       "3         102    5500.0        24           30                 0   \n",
       "4         115    5500.0        18           22                 0   \n",
       "\n",
       "   fuel-type-gas  aspiration-std  aspiration-turbo    price  \n",
       "0              1               1                 0  13495.0  \n",
       "1              1               1                 0  16500.0  \n",
       "2              1               1                 0  16500.0  \n",
       "3              1               1                 0  13950.0  \n",
       "4              1               1                 0  17450.0  \n",
       "\n",
       "[5 rows x 21 columns]"
      ]
     },
     "execution_count": 2,
     "metadata": {},
     "output_type": "execute_result"
    }
   ],
   "source": [
    "dataset = pd.read_csv('processed_data.csv')\n",
    "dataset.head(5)"
   ]
  },
  {
   "cell_type": "markdown",
   "id": "ca8c8c05",
   "metadata": {},
   "source": [
    "#  Strong Linear relationship"
   ]
  },
  {
   "cell_type": "markdown",
   "id": "1e3f6fba",
   "metadata": {},
   "source": [
    "Here we will check the dependency of the price with the independent variables in the dataset"
   ]
  },
  {
   "cell_type": "code",
   "execution_count": 3,
   "id": "ca14a358",
   "metadata": {
    "scrolled": true
   },
   "outputs": [
    {
     "data": {
      "text/plain": [
       "(0.0, 53113.5477704478)"
      ]
     },
     "execution_count": 3,
     "metadata": {},
     "output_type": "execute_result"
    },
    {
     "data": {
      "image/png": "[encoded data removed]",
      "text/plain": [
       "<Figure size 432x288 with 1 Axes>"
      ]
     },
     "metadata": {
      "needs_background": "light"
     },
     "output_type": "display_data"
    }
   ],
   "source": [
    "sns.regplot(x=\"engine-size\", y=\"price\", data=dataset,scatter_kws={\"color\": \"green\"},line_kws={\"color\": \"red\"})\n",
    "plt.ylim(0,)"
   ]
  },
  {
   "cell_type": "markdown",
   "id": "c804a4da",
   "metadata": {},
   "source": [
    "In the above graph we can see that as engine-size increases, the price also increases which indicates there is a positive direct correlation between these two variables.By this result, engine-size is a good predictor of the price."
   ]
  },
  {
   "cell_type": "code",
   "execution_count": 4,
   "id": "238f4e0b",
   "metadata": {
    "scrolled": false
   },
   "outputs": [
    {
     "data": {
      "text/plain": [
       "<AxesSubplot:xlabel='horsepower', ylabel='price'>"
      ]
     },
     "execution_count": 4,
     "metadata": {},
     "output_type": "execute_result"
    },
    {
     "data": {
      "image/png": "[encoded data removed]",
      "text/plain": [
       "<Figure size 432x288 with 1 Axes>"
      ]
     },
     "metadata": {
      "needs_background": "light"
     },
     "output_type": "display_data"
    }
   ],
   "source": [
    "sns.regplot(x=\"horsepower\", y=\"price\", data=dataset,scatter_kws={\"color\": \"green\"}, line_kws={\"color\": \"red\"})"
   ]
  },
  {
   "cell_type": "markdown",
   "id": "a86a14b8",
   "metadata": {},
   "source": [
    "In the above graph, it is clearly visible that as horsepower increases the price also increases.With this we can also consider the horsepower as the good predictor of price."
   ]
  },
  {
   "cell_type": "code",
   "execution_count": 5,
   "id": "d34ba249",
   "metadata": {
    "scrolled": true
   },
   "outputs": [
    {
     "data": {
      "text/plain": [
       "<AxesSubplot:xlabel='highway-mpg', ylabel='price'>"
      ]
     },
     "execution_count": 5,
     "metadata": {},
     "output_type": "execute_result"
    },
    {
     "data": {
      "image/png": "[encoded data removed]",
      "text/plain": [
       "<Figure size 432x288 with 1 Axes>"
      ]
     },
     "metadata": {
      "needs_background": "light"
     },
     "output_type": "display_data"
    }
   ],
   "source": [
    "sns.regplot(x=\"highway-mpg\", y=\"price\", data=dataset,scatter_kws={\"color\": \"green\"}, line_kws={\"color\": \"red\"})"
   ]
  },
  {
   "cell_type": "markdown",
   "id": "77193518",
   "metadata": {},
   "source": [
    "From the above graph, it shows that the highway-mpg has a negative relationship with the price. Here the highway-mpg variable is inversely proportional to the price. So the highway-mpg is also pretty good predictor of the price"
   ]
  },
  {
   "cell_type": "markdown",
   "id": "e0eae43b",
   "metadata": {},
   "source": [
    "# Weak Linear relationship"
   ]
  },
  {
   "cell_type": "markdown",
   "id": "22235052",
   "metadata": {},
   "source": [
    "Similarly, we will check other variables in the dataset. Below, we will check the peak-rpm relationship with the price."
   ]
  },
  {
   "cell_type": "code",
   "execution_count": 6,
   "id": "673512f6",
   "metadata": {
    "scrolled": true
   },
   "outputs": [
    {
     "data": {
      "text/plain": [
       "<AxesSubplot:xlabel='peak-rpm', ylabel='price'>"
      ]
     },
     "execution_count": 6,
     "metadata": {},
     "output_type": "execute_result"
    },
    {
     "data": {
      "image/png": "[encoded data removed]",
      "text/plain": [
       "<Figure size 432x288 with 1 Axes>"
      ]
     },
     "metadata": {
      "needs_background": "light"
     },
     "output_type": "display_data"
    }
   ],
   "source": [
    "sns.regplot(x=\"peak-rpm\", y=\"price\", data=dataset,scatter_kws={\"color\": \"green\"}, line_kws={\"color\": \"red\"})"
   ]
  },
  {
   "cell_type": "markdown",
   "id": "fbc54841",
   "metadata": {},
   "source": [
    "In the above graph, peak-rpm is not good predictor of price. Because the line is pretty much close to horizontal. Morever some datapoints are scattered and far from the fitted line. So it shows there is lot variablitity.\n",
    "So peak-rpm is not good predictor of the price.\n"
   ]
  },
  {
   "cell_type": "code",
   "execution_count": 7,
   "id": "77886d67",
   "metadata": {
    "scrolled": true
   },
   "outputs": [
    {
     "data": {
      "text/plain": [
       "<AxesSubplot:xlabel='stroke', ylabel='price'>"
      ]
     },
     "execution_count": 7,
     "metadata": {},
     "output_type": "execute_result"
    },
    {
     "data": {
      "image/png": "[encoded data removed]",
      "text/plain": [
       "<Figure size 432x288 with 1 Axes>"
      ]
     },
     "metadata": {
      "needs_background": "light"
     },
     "output_type": "display_data"
    }
   ],
   "source": [
    "sns.regplot(x=\"stroke\", y=\"price\", data=dataset,scatter_kws={\"color\": \"green\"}, line_kws={\"color\": \"red\"})"
   ]
  },
  {
   "cell_type": "markdown",
   "id": "578aa5a3",
   "metadata": {},
   "source": [
    "Similarly in the above graph, Stroke is not a good predictor of the price as peak-rpm"
   ]
  },
  {
   "cell_type": "markdown",
   "id": "73ed8ef3",
   "metadata": {},
   "source": [
    "# Splitting and Training data"
   ]
  },
  {
   "cell_type": "code",
   "execution_count": 8,
   "id": "c115e9af",
   "metadata": {},
   "outputs": [],
   "source": [
    "X=dataset.drop('price', axis=1)\n",
    "y=dataset[['price']]"
   ]
  },
  {
   "cell_type": "code",
   "execution_count": 9,
   "id": "978baea0",
   "metadata": {},
   "outputs": [],
   "source": [
    "from sklearn.model_selection import train_test_split\n",
    "X_train, X_test, y_train, y_test = train_test_split(X, y, test_size = 0.20, random_state = 42)"
   ]
  },
  {
   "cell_type": "markdown",
   "id": "94144704",
   "metadata": {},
   "source": [
    "# Linear Regression Model"
   ]
  },
  {
   "cell_type": "markdown",
   "id": "90073d1a",
   "metadata": {},
   "source": [
    "In strong linear relationship, we got good predictor for the price. So we will consider them to use in the linear regression model"
   ]
  },
  {
   "cell_type": "code",
   "execution_count": 10,
   "id": "7240beb7",
   "metadata": {},
   "outputs": [
    {
     "data": {
      "text/plain": [
       "0.7245780486466742"
      ]
     },
     "execution_count": 10,
     "metadata": {},
     "output_type": "execute_result"
    }
   ],
   "source": [
    "from sklearn.linear_model import LinearRegression\n",
    "lin_reg = LinearRegression()\n",
    "lin_reg.fit(X_train[['engine-size']], y_train)\n",
    "y_pred = lin_reg.predict(X_test[['engine-size']])\n",
    "r2_score(y_test, y_pred)"
   ]
  },
  {
   "cell_type": "code",
   "execution_count": 11,
   "id": "60f74db4",
   "metadata": {
    "scrolled": false
   },
   "outputs": [
    {
     "name": "stdout",
     "output_type": "stream",
     "text": [
      "[-5912.00764431]\n",
      "[[148.25615153]]\n"
     ]
    }
   ],
   "source": [
    "print(lin_reg.intercept_)\n",
    "print(lin_reg.coef_)"
   ]
  },
  {
   "cell_type": "code",
   "execution_count": 12,
   "id": "3f74e1f7",
   "metadata": {},
   "outputs": [
    {
     "data": {
      "text/plain": [
       "33696986.98421673"
      ]
     },
     "execution_count": 12,
     "metadata": {},
     "output_type": "execute_result"
    }
   ],
   "source": [
    "from sklearn.metrics import mean_squared_error\n",
    "mse = mean_squared_error(y_test, y_pred)\n",
    "mse"
   ]
  },
  {
   "cell_type": "code",
   "execution_count": 13,
   "id": "75731e40",
   "metadata": {},
   "outputs": [
    {
     "data": {
      "image/png": "[encoded data removed]",
      "text/plain": [
       "<Figure size 720x576 with 1 Axes>"
      ]
     },
     "metadata": {
      "needs_background": "light"
     },
     "output_type": "display_data"
    }
   ],
   "source": [
    "fig = plt.figure()\n",
    "fig.set_size_inches(10, 8)\n",
    "plt.xlim([75,220])  \n",
    "plt.ylim([500, 45000])\n",
    "plt.scatter(np.array(X_train[['engine-size']]), np.array(y_train), color = \"red\")\n",
    "plt.plot(np.array(X_test[['engine-size']]),np.array(y_pred), color = \"green\")\n",
    "plt.title(\"engine size vs Price of car\")\n",
    "plt.xlabel(\"engine size\")\n",
    "plt.ylabel(\"Price of car\")\n",
    "plt.show()"
   ]
  },
  {
   "cell_type": "code",
   "execution_count": 14,
   "id": "f1281b36",
   "metadata": {
    "scrolled": false
   },
   "outputs": [
    {
     "data": {
      "text/plain": [
       "0.6232911525308579"
      ]
     },
     "execution_count": 14,
     "metadata": {},
     "output_type": "execute_result"
    }
   ],
   "source": [
    "lin_reg = LinearRegression()\n",
    "lin_reg.fit(X_train[['horsepower']], y_train)\n",
    "y_pred = lin_reg.predict(X_test[['horsepower']])\n",
    "r2_score(y_test, y_pred)"
   ]
  },
  {
   "cell_type": "code",
   "execution_count": 15,
   "id": "b3630bf0",
   "metadata": {},
   "outputs": [
    {
     "name": "stdout",
     "output_type": "stream",
     "text": [
      "[-2907.6279431]\n",
      "[[151.89853872]]\n"
     ]
    }
   ],
   "source": [
    "print(lin_reg.intercept_)\n",
    "print(lin_reg.coef_)"
   ]
  },
  {
   "cell_type": "code",
   "execution_count": 16,
   "id": "616dc12e",
   "metadata": {},
   "outputs": [
    {
     "data": {
      "text/plain": [
       "46089111.879548386"
      ]
     },
     "execution_count": 16,
     "metadata": {},
     "output_type": "execute_result"
    }
   ],
   "source": [
    "mse_horsepower = mean_squared_error(y_test, y_pred)\n",
    "mse_horsepower"
   ]
  },
  {
   "cell_type": "markdown",
   "id": "ef22814b",
   "metadata": {},
   "source": [
    "# Multiple Linear regression"
   ]
  },
  {
   "cell_type": "code",
   "execution_count": 17,
   "id": "8aeebdef",
   "metadata": {},
   "outputs": [
    {
     "data": {
      "text/plain": [
       "0.7459190825061828"
      ]
     },
     "execution_count": 17,
     "metadata": {},
     "output_type": "execute_result"
    }
   ],
   "source": [
    "from sklearn.linear_model import LinearRegression\n",
    "lin_reg = LinearRegression()\n",
    "lin_reg.fit(X_train[['horsepower', 'wheel-base', 'engine-size']], y_train)\n",
    "y_pred = lin_reg.predict(X_test[['horsepower', 'wheel-base', 'engine-size']])\n",
    "r2_score(y_test, y_pred)"
   ]
  },
  {
   "cell_type": "code",
   "execution_count": 18,
   "id": "8387534b",
   "metadata": {},
   "outputs": [
    {
     "data": {
      "text/plain": [
       "31085980.357257448"
      ]
     },
     "execution_count": 18,
     "metadata": {},
     "output_type": "execute_result"
    }
   ],
   "source": [
    "mse_multiple = mean_squared_error(y_test, y_pred)\n",
    "mse_multiple"
   ]
  },
  {
   "cell_type": "code",
   "execution_count": 19,
   "id": "19344035",
   "metadata": {
    "scrolled": true
   },
   "outputs": [
    {
     "data": {
      "text/plain": [
       "0.8038996471969073"
      ]
     },
     "execution_count": 19,
     "metadata": {},
     "output_type": "execute_result"
    }
   ],
   "source": [
    "from sklearn.linear_model import LinearRegression\n",
    "lin_reg = LinearRegression()\n",
    "lin_reg.fit(X_train, y_train)\n",
    "y_pred = lin_reg.predict(X_test)\n",
    "r2_score(y_test, y_pred)"
   ]
  },
  {
   "cell_type": "code",
   "execution_count": 20,
   "id": "a3ddb22b",
   "metadata": {
    "scrolled": true
   },
   "outputs": [
    {
     "name": "stdout",
     "output_type": "stream",
     "text": [
      "[-62941.05383421]\n",
      "[[-1.40901952e+01  4.28430807e+02  3.02726585e+00  2.61095601e+02\n",
      "  -7.80520433e+03  2.84433966e+04  9.38697939e+03  7.43537586e-02\n",
      "   9.19486536e+01  2.27663451e+02 -2.58947334e+03  7.94796052e+02\n",
      "   3.66214745e+01  9.66506230e-01 -2.92791857e+02  2.04123764e+02\n",
      "  -4.05246203e+03  4.05246203e+03 -5.12193841e+02  5.12193841e+02]]\n"
     ]
    }
   ],
   "source": [
    "print(lin_reg.intercept_)\n",
    "print(lin_reg.coef_)"
   ]
  },
  {
   "cell_type": "code",
   "execution_count": 21,
   "id": "e698047f",
   "metadata": {},
   "outputs": [
    {
     "data": {
      "text/plain": [
       "23992245.365835216"
      ]
     },
     "execution_count": 21,
     "metadata": {},
     "output_type": "execute_result"
    }
   ],
   "source": [
    "mse_multiple = mean_squared_error(y_test, y_pred)\n",
    "mse_multiple"
   ]
  },
  {
   "cell_type": "markdown",
   "id": "38bc1ea6",
   "metadata": {},
   "source": [
    "# Ridge Regression\n",
    "Ridge Regression (also called Tikhonov regularization) is a regularized version of Linear Regression: a regularization term equal to $\\lambda\\sum_{i=1}^{n}w_{i}^{2}$ is added to the cost function. This forces the learning algorithm to not only fit the data but also keep the model weights as small as possible. Note that the regularization term should only be added to the cost function during training. Once the model is trained, you want to use the unregularized performance measure to evaluate the model’s performance. <br>\n",
    "The hyperparameter $\\alpha$(the $\\lambda$ parameter in our notations) controls how much you want to regularize the model. If $\\alpha$ = 0, then Ridge Regression is just Linear Regression. If $\\alpha$ is very large, then all weights end up very close to zero and the result is a flat line going through the data’s mean. <br>\n",
    "More information on Ridge Regression: <br>"
   ]
  },
  {
   "cell_type": "code",
   "execution_count": 22,
   "id": "97bdf848",
   "metadata": {
    "scrolled": true
   },
   "outputs": [
    {
     "data": {
      "text/plain": [
       "0.8020349098400411"
      ]
     },
     "execution_count": 22,
     "metadata": {},
     "output_type": "execute_result"
    }
   ],
   "source": [
    "from sklearn.linear_model import Ridge\n",
    "\n",
    "ridge_reg = Ridge(alpha=1, solver=\"cholesky\", random_state=42)\n",
    "ridge_reg.fit(X_train, y_train)\n",
    "y_pred = ridge_reg.predict(X_test)\n",
    "r2_score(y_test, y_pred)"
   ]
  },
  {
   "cell_type": "code",
   "execution_count": 23,
   "id": "ec3ba0af",
   "metadata": {},
   "outputs": [
    {
     "data": {
      "text/plain": [
       "24220389.964094535"
      ]
     },
     "execution_count": 23,
     "metadata": {},
     "output_type": "execute_result"
    }
   ],
   "source": [
    "mse_ridge = mean_squared_error(y_test, y_pred)\n",
    "mse_ridge"
   ]
  },
  {
   "cell_type": "markdown",
   "id": "a6b69dea",
   "metadata": {},
   "source": [
    "# Lasso Regression\n",
    "**L**east **A**bsolute **S**hrinkage and **S**election **O**perator Regression (usually simply called **Lasso Regression**) is another regularized version of Linear Regression: just like Ridge Regression, it adds a regularization term to the cost function, but it uses the l1 norm of the weight vector instead of half the square of the l2 norm."
   ]
  },
  {
   "cell_type": "code",
   "execution_count": 24,
   "id": "313bae61",
   "metadata": {},
   "outputs": [
    {
     "data": {
      "text/plain": [
       "0.8023969679664774"
      ]
     },
     "execution_count": 24,
     "metadata": {},
     "output_type": "execute_result"
    }
   ],
   "source": [
    "from sklearn.linear_model import Lasso\n",
    "lasso_reg = Lasso(alpha=1)\n",
    "lasso_reg.fit(X_train, y_train)\n",
    "y_pred = lasso_reg.predict(X_test)\n",
    "r2_score(y_test, y_pred)"
   ]
  },
  {
   "cell_type": "code",
   "execution_count": 25,
   "id": "3483ab20",
   "metadata": {},
   "outputs": [
    {
     "data": {
      "text/plain": [
       "24176093.32065669"
      ]
     },
     "execution_count": 25,
     "metadata": {},
     "output_type": "execute_result"
    }
   ],
   "source": [
    "mse_lasso = mean_squared_error(y_test, y_pred)\n",
    "mse_lasso"
   ]
  },
  {
   "cell_type": "markdown",
   "id": "3f8ed763",
   "metadata": {},
   "source": [
    "# Conclusion"
   ]
  },
  {
   "cell_type": "markdown",
   "id": "2ffed9b2",
   "metadata": {},
   "source": [
    "Metrics used are:\n",
    "R squared value\n",
    "Mean Sqaured error\n",
    "\n",
    "Model with the higher R-squared value is a better fit for the data.\n",
    "\n",
    "Model with the smallest MSE value is a better fit for the data."
   ]
  },
  {
   "cell_type": "markdown",
   "id": "4efedcdc",
   "metadata": {},
   "source": [
    "Out of the four models, the best model for the data set is Lasso regression because it has high R squared value and less Mean squared error compare to other models"
   ]
  },
  {
   "cell_type": "markdown",
   "id": "28cc558d",
   "metadata": {},
   "source": [
    "In linear regression, we got R sqaured value 0.72 compared to other models we got 0.80. It shows the price does not only depend single independent variable, which means the price depend on more than one variable in the dataset."
   ]
  }
 ],
 "metadata": {
  "kernelspec": {
   "display_name": "Python 3 (ipykernel)",
   "language": "python",
   "name": "python3"
  },
  "language_info": {
   "codemirror_mode": {
    "name": "ipython",
    "version": 3
   },
   "file_extension": ".py",
   "mimetype": "text/x-python",
   "name": "python",
   "nbconvert_exporter": "python",
   "pygments_lexer": "ipython3",
   "version": "3.9.12"
  }
 },
 "nbformat": 4,
 "nbformat_minor": 5
}
